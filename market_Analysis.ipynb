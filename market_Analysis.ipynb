{
  "nbformat": 4,
  "nbformat_minor": 0,
  "metadata": {
    "colab": {
      "provenance": [],
      "authorship_tag": "ABX9TyP2xcY71MX3yrG1YP0mi7E5",
      "include_colab_link": true
    },
    "kernelspec": {
      "name": "python3",
      "display_name": "Python 3"
    },
    "language_info": {
      "name": "python"
    }
  },
  "cells": [
    {
      "cell_type": "markdown",
      "metadata": {
        "id": "view-in-github",
        "colab_type": "text"
      },
      "source": [
        "<a href=\"https://colab.research.google.com/github/PraveenPrabhat125/Stock_market_analysis-/blob/main/market_Analysis.ipynb\" target=\"_parent\"><img src=\"https://colab.research.google.com/assets/colab-badge.svg\" alt=\"Open In Colab\"/></a>"
      ]
    },
    {
      "cell_type": "code",
      "execution_count": 18,
      "metadata": {
        "id": "xymdsQi0oYjp"
      },
      "outputs": [],
      "source": [
        "# import data\n",
        "import pandas as pd\n",
        "import numpy as np\n",
        "market_data = pd.read_excel('/content/market_test_data.xlsx')"
      ]
    },
    {
      "cell_type": "code",
      "source": [
        "# normalise the score\n",
        "# market_data.info()\n",
        "market_data = pd.read_excel('/content/market_test_data.xlsx')\n",
        "market_data.columns"
      ],
      "metadata": {
        "id": "8tKMLqrhoc27",
        "colab": {
          "base_uri": "https://localhost:8080/"
        },
        "outputId": "e0a3e519-6585-4a28-ec1f-102d06517ee5"
      },
      "execution_count": 29,
      "outputs": [
        {
          "output_type": "execute_result",
          "data": {
            "text/plain": [
              "Index(['Name', 'CMP', 'P_E', 'MCAP', 'Div_Yld_%', 'NP_Qtr_Rs.Cr.',\n",
              "       'Qtr_Profit_Var_%', 'Sales_Qtr_Rs.Cr.', 'Qtr_Sales_Var_%', 'ROCE_%',\n",
              "       'Debt_Eq', 'Ind_PE'],\n",
              "      dtype='object')"
            ]
          },
          "metadata": {},
          "execution_count": 29
        }
      ]
    },
    {
      "cell_type": "markdown",
      "source": [
        "# final code"
      ],
      "metadata": {
        "id": "RETs963ewGTM"
      }
    },
    {
      "cell_type": "code",
      "source": [
        "import pandas as pd\n",
        "import numpy as np\n",
        "\n",
        "# Read data from Excel file\n",
        "market_data = pd.read_excel('/content/market_test_data.xlsx')\n",
        "\n",
        "# Define weights\n",
        "weights = {\n",
        "    'CMP': 0.10,\n",
        "    'P_E': 0.15,\n",
        "    'MCAP': 0.10,\n",
        "    'Div_Yld_%': 0.08,\n",
        "    'NP_Qtr_Rs.Cr.': 0.12,\n",
        "    'Qtr_Profit_Var_%': 0.08,\n",
        "    'Sales_Qtr_Rs.Cr.': 0.10,\n",
        "    'Qtr_Sales_Var_%': 0.07,\n",
        "    'ROCE_%': 0.10,\n",
        "    'Debt_Eq': 0.05,\n",
        "    'Ind_PE': 0.05,\n",
        "    'CMP/BV': 0.05\n",
        "}\n",
        "\n",
        "# Function to calculate the final score\n",
        "def calculate_final_score(row, weights):\n",
        "    # Extract relevant columns from the row\n",
        "    indicators = row[['CMP', 'P_E', 'MCAP', 'Div_Yld_%',\n",
        "                      'NP_Qtr_Rs.Cr.', 'Qtr_Profit_Var_%', 'Sales_Qtr_Rs.Cr.',\n",
        "                      'Qtr_Sales_Var_%', 'ROCE_%', 'Debt_Eq', 'Ind_PE']]\n",
        "\n",
        "    # Remove extra spaces from column names\n",
        "    indicators.index = indicators.index.str.strip()\n",
        "\n",
        "    # Extract weights for the relevant indicators\n",
        "    relevant_weights = {key: weights[key] for key in indicators.index}\n",
        "\n",
        "    # Calculate the final score for the row\n",
        "    final_score = np.sum(np.multiply(indicators, list(relevant_weights.values())))\n",
        "\n",
        "    return final_score\n",
        "\n",
        "# Calculate final score for each stock\n",
        "market_data['Final Score'] = market_data.apply(lambda row: calculate_final_score(row, weights), axis=1)\n",
        "\n",
        "# Display the DataFrame with the added 'Final Score' column\n",
        "print(market_data[['Name', 'CMP', 'P_E', 'MCAP', 'Div_Yld_%',\n",
        "                   'NP_Qtr_Rs.Cr.', 'Qtr_Profit_Var_%', 'Sales_Qtr_Rs.Cr.',\n",
        "                   'Qtr_Sales_Var_%', 'ROCE_%', 'Debt_Eq', 'Ind_PE', 'Final Score']])\n",
        "market_data.columns"
      ],
      "metadata": {
        "colab": {
          "base_uri": "https://localhost:8080/"
        },
        "id": "lqu7U91GwLLK",
        "outputId": "8c0ffebc-02df-493e-8869-61f7fa557e0e"
      },
      "execution_count": 32,
      "outputs": [
        {
          "output_type": "stream",
          "name": "stdout",
          "text": [
            "                Name    CMP     P_E      MCAP  Div_Yld_%  NP_Qtr_Rs.Cr.  \\\n",
            "0      Reliance Home   5.70    0.04    257.81       0.00          -2.56   \n",
            "1       PVP Ventures  15.90     NaN    410.16       0.00          -4.08   \n",
            "2     Seacoast Ship.   4.95   13.25    266.65       0.00           7.73   \n",
            "3   Rajnandini Metal  17.00   26.36    470.02       0.39           6.50   \n",
            "4   Maximus Interna.  19.66   43.14    247.17       0.00           1.28   \n",
            "5    Indian Acrylics  15.31     NaN    207.17       0.00         -24.74   \n",
            "6     Goldstar Power  16.25   94.25    391.15       0.00           2.26   \n",
            "7      Captain Pipes  19.14   69.46    282.72       0.00           2.06   \n",
            "8      Filatex Fash.  16.87  255.40   2811.92       0.00           1.87   \n",
            "9   GVK Power Infra.  13.50   15.87   2118.79       0.00         156.15   \n",
            "10  Integra Essentia  12.25   44.16    555.54       0.00           7.54   \n",
            "11      Madhav Infra  13.04   15.51    351.54       0.00           7.96   \n",
            "12    Sadbhav Infra.   6.45    1.42    217.92       0.00        -295.84   \n",
            "13     Kritika Wires  12.70   46.20    338.17       0.00           2.03   \n",
            "14    Rhetan TMT Ltd   9.93  145.19    791.30       0.00           1.45   \n",
            "15       Gennex Lab.  19.94   39.14    353.83       0.00           3.07   \n",
            "16    Variman Global  19.21  188.78    373.79       0.00           2.10   \n",
            "17    Syncom Formul.  16.60   67.56   1558.61       0.00           6.21   \n",
            "18  IL&FS Inv.Manag.  11.90   36.23    374.94       6.72           1.75   \n",
            "19    Aksh Optifibre  14.20     NaN    232.80       0.00          -4.93   \n",
            "20  Rattanindia Pow.  11.40     NaN   6127.55       0.00        -632.67   \n",
            "21    Steel Exchange  13.15     NaN   1560.42       0.00          -3.65   \n",
            "22   Vishwaraj Sugar  16.85     NaN    315.85       0.59         -11.33   \n",
            "23  Sarveshwar Foods   7.00   60.57    682.00       0.00           4.83   \n",
            "24  Std. Capital Mkt   3.09   45.93    454.23       0.00           3.32   \n",
            "25        Ducon Tech  11.65   86.35    303.08       0.00           0.67   \n",
            "26    Comfort Intech   8.52   30.77    272.59       0.70           5.16   \n",
            "27     Vikas Ecotech   4.20   72.07    565.72       0.00           1.77   \n",
            "28   A2Z Infra Engg.  14.85     NaN    261.88       0.00          -3.49   \n",
            "29  Pil Italica Life  13.85   76.81    327.22       0.00           1.05   \n",
            "30   Inventure Grow.   3.40   35.88    285.60       0.00           1.59   \n",
            "31  Nila Infrastruct   9.30  137.42    365.53       0.00           2.48   \n",
            "32  Country Club Hos  15.45   17.96    252.39       0.00          -4.05   \n",
            "33     JP Power Ven.  16.35  140.27  11191.80       0.00          68.66   \n",
            "34   Ruchi Infrastr.  12.75  101.23    274.33       0.00           9.20   \n",
            "\n",
            "    Qtr_Profit_Var_%  Sales_Qtr_Rs.Cr.  Qtr_Sales_Var_%  ROCE_%  Debt_Eq  \\\n",
            "0              98.97              0.16           -99.89  257.70      NaN   \n",
            "1             -88.89              0.03           -96.05   61.18     0.18   \n",
            "2              98.71            121.42            10.39   38.41     0.20   \n",
            "3              94.61            333.10            83.96   29.22     1.85   \n",
            "4             -37.44             24.76           -13.82   21.00     0.34   \n",
            "5                NaN            171.59           -30.19   19.84     3.09   \n",
            "6                NaN             28.46              NaN   17.33     0.64   \n",
            "7             552.17             35.84             8.15   16.56     0.42   \n",
            "8             -58.99             45.77             4.93   15.82     0.03   \n",
            "9             -59.77            379.63           -61.83   14.11      NaN   \n",
            "10            257.35             66.90            17.10   13.88     0.01   \n",
            "11            -69.95             97.57             7.79   13.22     0.97   \n",
            "12             78.87            160.78            -1.28   12.28      NaN   \n",
            "13             86.24            104.87            71.69   11.78     0.59   \n",
            "14               NaN             34.76              NaN   11.03     0.18   \n",
            "15            192.38             18.18            -7.34   10.84     0.25   \n",
            "16            556.25             33.53            21.93    9.95     0.91   \n",
            "17             72.50             62.39            14.50    9.70     0.30   \n",
            "18            -59.40             11.63           -26.39    9.24     0.00   \n",
            "19           -158.43             60.34             2.81    9.05     2.54   \n",
            "20            -22.23            796.39            24.81    8.62      NaN   \n",
            "21           -447.62            269.45           -14.33    8.56     0.47   \n",
            "22            -60.94            138.05            39.23    8.40     1.03   \n",
            "23            228.57            205.22            15.16    8.12     1.19   \n",
            "24            706.67              5.78            98.63    7.45     0.96   \n",
            "25            -12.99             78.79             1.81    7.12     0.81   \n",
            "26             -0.77             26.63           -24.58    6.84     0.09   \n",
            "27            -50.00             60.74           -54.78    6.76     0.02   \n",
            "28            -97.09            101.96             5.61    6.57     7.38   \n",
            "29             28.05             25.22            29.87    6.28     0.12   \n",
            "30             11.19             36.21           172.67    6.13     0.14   \n",
            "31           4033.33             39.16            30.66    6.05     0.46   \n",
            "32             24.16             12.79            -8.45    6.02     0.31   \n",
            "33             96.26           1349.81            -2.57    5.16     0.41   \n",
            "34             -4.41             15.58             6.20    4.01     0.60   \n",
            "\n",
            "    Ind_PE  Final Score  \n",
            "0    15.56      53.5391  \n",
            "1    34.18      36.1207  \n",
            "2    11.72      55.2782  \n",
            "3    17.41     104.1082  \n",
            "4    50.62      36.4690  \n",
            "5    27.35      37.8309  \n",
            "6    32.81      61.4002  \n",
            "7    32.78      92.4963  \n",
            "8    36.23     325.0113  \n",
            "9    40.56     266.6398  \n",
            "10   50.62      96.7023  \n",
            "11   28.16      47.2245  \n",
            "12   28.16      12.0832  \n",
            "13   22.89      67.0171  \n",
            "14   22.89     107.8080  \n",
            "15   39.14      63.3645  \n",
            "16   40.20     120.3076  \n",
            "17   32.76     184.0772  \n",
            "18   21.46      41.4268  \n",
            "19   23.63      19.8782  \n",
            "20   22.56     619.5619  \n",
            "21   22.89     149.0753  \n",
            "22   11.90      45.1200  \n",
            "23   40.68     121.3394  \n",
            "24   21.46     118.9016  \n",
            "25   40.56      54.2529  \n",
            "26   29.76      36.4590  \n",
            "27   32.78      68.5703  \n",
            "28   40.56      33.1297  \n",
            "29   32.78      54.8844  \n",
            "30   20.36      52.7139  \n",
            "31   28.16     389.1582  \n",
            "32   35.09      33.9843  \n",
            "33   22.56    1294.2611  \n",
            "34   37.72      48.9527  \n"
          ]
        },
        {
          "output_type": "execute_result",
          "data": {
            "text/plain": [
              "Index(['Name', 'CMP', 'P_E', 'MCAP', 'Div_Yld_%', 'NP_Qtr_Rs.Cr.',\n",
              "       'Qtr_Profit_Var_%', 'Sales_Qtr_Rs.Cr.', 'Qtr_Sales_Var_%', 'ROCE_%',\n",
              "       'Debt_Eq', 'Ind_PE', 'Final Score'],\n",
              "      dtype='object')"
            ]
          },
          "metadata": {},
          "execution_count": 32
        }
      ]
    },
    {
      "cell_type": "code",
      "source": [],
      "metadata": {
        "id": "pOn3HlYUx4_4"
      },
      "execution_count": null,
      "outputs": []
    },
    {
      "cell_type": "code",
      "source": [
        "import matplotlib.pyplot as plt\n",
        "# Filter rows where 'Final Score' is less than 400\n",
        "filtered_data = market_data[market_data['Final Score'] < 400]\n",
        "\n",
        "# Plot histogram of the filtered scores\n",
        "plt.figure(figsize=(10, 6))\n",
        "plt.hist(filtered_data['Final Score'], bins=20, color='skyblue', edgecolor='black')\n",
        "plt.title('Distribution of Final Scores (Score < 400)')\n",
        "plt.xlabel('Final Score')\n",
        "plt.ylabel('Frequency')\n",
        "plt.grid(True)\n",
        "plt.show()\n"
      ],
      "metadata": {
        "colab": {
          "base_uri": "https://localhost:8080/",
          "height": 564
        },
        "id": "2-iGm75xx4i4",
        "outputId": "7ae964d4-cf87-4f2d-f701-4523cad1269f"
      },
      "execution_count": 34,
      "outputs": [
        {
          "output_type": "display_data",
          "data": {
            "text/plain": [
              "<Figure size 1000x600 with 1 Axes>"
            ],
            "image/png": "[encoded data removed]"
          },
          "metadata": {}
        }
      ]
    },
    {
      "cell_type": "code",
      "source": [
        "# Define score ranges\n",
        "score_ranges = [0, 60, 80, 100, 150, 200, 500, float('inf')]\n",
        "\n",
        "# Create bins using pd.cut\n",
        "bins = pd.cut(market_data['Final Score'], bins=score_ranges, right=False)\n",
        "\n",
        "# Count the occurrences in each bin\n",
        "score_distribution = pd.value_counts(bins, sort=False)\n",
        "\n",
        "# Display the count for each range\n",
        "print(score_distribution)\n"
      ],
      "metadata": {
        "colab": {
          "base_uri": "https://localhost:8080/"
        },
        "id": "QPRQNFABx5m6",
        "outputId": "258d7ec8-5315-49de-9ffa-6a9e1e4406ea"
      },
      "execution_count": 38,
      "outputs": [
        {
          "output_type": "stream",
          "name": "stdout",
          "text": [
            "[0.0, 60.0)       17\n",
            "[60.0, 80.0)       4\n",
            "[80.0, 100.0)      2\n",
            "[100.0, 150.0)     6\n",
            "[150.0, 200.0)     1\n",
            "[200.0, 500.0)     3\n",
            "[500.0, inf)       2\n",
            "Name: Final Score, dtype: int64\n"
          ]
        }
      ]
    },
    {
      "cell_type": "code",
      "source": [
        "import matplotlib.pyplot as plt\n",
        "# Filter rows where 'Final Score' is less than 400\n",
        "filtered_data = market_data[market_data['Final Score'] > 100]\n",
        "\n",
        "# Plot histogram of the filtered scores\n",
        "plt.figure(figsize=(10, 6))\n",
        "plt.hist(filtered_data['Final Score'], bins=20, color='skyblue', edgecolor='black')\n",
        "plt.title('Distribution of Final Scores (Score < 400)')\n",
        "plt.xlabel('Final Score')\n",
        "plt.ylabel('Frequency')\n",
        "plt.grid(True)\n",
        "plt.show()\n"
      ],
      "metadata": {
        "colab": {
          "base_uri": "https://localhost:8080/",
          "height": 564
        },
        "id": "53itST1_x51j",
        "outputId": "37bee639-de88-41b1-dfee-4b23329e56ec"
      },
      "execution_count": 37,
      "outputs": [
        {
          "output_type": "display_data",
          "data": {
            "text/plain": [
              "<Figure size 1000x600 with 1 Axes>"
            ],
            "image/png": "[encoded data removed]"
          },
          "metadata": {}
        }
      ]
    },
    {
      "cell_type": "code",
      "source": [],
      "metadata": {
        "id": "AtpEmU1Jx6D_"
      },
      "execution_count": null,
      "outputs": []
    },
    {
      "cell_type": "code",
      "source": [
        "# Filter rows where 'Final Score' is greater than 60\n",
        "filtered_data = market_data[market_data['Final Score'] > 60]\n",
        "\n",
        "# Sort the filtered data by 'MCAP' and 'Final Score' in descending order\n",
        "final_list = filtered_data.sort_values(by=['MCAP', 'Final Score'], ascending=[False, False])\n",
        "\n",
        "# Display the final list\n",
        "print(final_list[['Name', 'MCAP', 'Final Score']])\n",
        "final_list.to_excel('summaryS>60.xlsx')\n"
      ],
      "metadata": {
        "id": "vyMzLrmnogIz",
        "colab": {
          "base_uri": "https://localhost:8080/"
        },
        "outputId": "e4f370f7-dc86-47bd-866d-a521bee86f22"
      },
      "execution_count": 40,
      "outputs": [
        {
          "output_type": "stream",
          "name": "stdout",
          "text": [
            "                Name      MCAP  Final Score\n",
            "33     JP Power Ven.  11191.80    1294.2611\n",
            "20  Rattanindia Pow.   6127.55     619.5619\n",
            "8      Filatex Fash.   2811.92     325.0113\n",
            "9   GVK Power Infra.   2118.79     266.6398\n",
            "21    Steel Exchange   1560.42     149.0753\n",
            "17    Syncom Formul.   1558.61     184.0772\n",
            "14    Rhetan TMT Ltd    791.30     107.8080\n",
            "23  Sarveshwar Foods    682.00     121.3394\n",
            "27     Vikas Ecotech    565.72      68.5703\n",
            "10  Integra Essentia    555.54      96.7023\n",
            "3   Rajnandini Metal    470.02     104.1082\n",
            "24  Std. Capital Mkt    454.23     118.9016\n",
            "6     Goldstar Power    391.15      61.4002\n",
            "16    Variman Global    373.79     120.3076\n",
            "31  Nila Infrastruct    365.53     389.1582\n",
            "15       Gennex Lab.    353.83      63.3645\n",
            "13     Kritika Wires    338.17      67.0171\n",
            "7      Captain Pipes    282.72      92.4963\n"
          ]
        }
      ]
    },
    {
      "cell_type": "markdown",
      "source": [],
      "metadata": {
        "id": "WchbltdkpqBq"
      }
    },
    {
      "cell_type": "code",
      "source": [],
      "metadata": {
        "id": "nrIciVINoh9h"
      },
      "execution_count": null,
      "outputs": []
    },
    {
      "cell_type": "code",
      "source": [],
      "metadata": {
        "id": "NEkJchiEoiPt"
      },
      "execution_count": null,
      "outputs": []
    }
  ]
}