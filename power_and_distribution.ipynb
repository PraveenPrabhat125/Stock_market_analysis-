{
  "nbformat": 4,
  "nbformat_minor": 0,
  "metadata": {
    "colab": {
      "provenance": [],
      "authorship_tag": "ABX9TyO4tfySCMQ4wfKla6Iq6gCm",
      "include_colab_link": true
    },
    "kernelspec": {
      "name": "python3",
      "display_name": "Python 3"
    },
    "language_info": {
      "name": "python"
    }
  },
  "cells": [
    {
      "cell_type": "markdown",
      "metadata": {
        "id": "view-in-github",
        "colab_type": "text"
      },
      "source": [
        "<a href=\"https://colab.research.google.com/github/PraveenPrabhat125/Stock_market_analysis-/blob/main/power_and_distribution.ipynb\" target=\"_parent\"><img src=\"https://colab.research.google.com/assets/colab-badge.svg\" alt=\"Open In Colab\"/></a>"
      ]
    },
    {
      "cell_type": "markdown",
      "source": [
        "# final code"
      ],
      "metadata": {
        "id": "RETs963ewGTM"
      }
    },
    {
      "cell_type": "code",
      "source": [
        "import pandas as pd\n",
        "import numpy as np\n",
        "\n",
        "market_data = pd.read_excel('/content/Power Generation & Distribution companies (1).xlsx')\n",
        "\n",
        "\n",
        "# Define weights\n",
        "weights = {\n",
        "    'CMP': 0.10,\n",
        "    'P_E': 0.15,\n",
        "    'MCAP': 0.10,\n",
        "    'Div_Yld_%': 0.08,\n",
        "    'NP_Qtr_Rs.Cr.': 0.12,\n",
        "    'Qtr_Profit_Var_%': 0.08,\n",
        "    'Sales_Qtr_Rs.Cr.': 0.10,\n",
        "    'Qtr_Sales_Var_%': 0.07,\n",
        "    'ROCE_%': 0.10,\n",
        "    'Debt_Eq': 0.05,\n",
        "    'Ind_PE': 0.05,\n",
        "    'CMP/BV': 0.05\n",
        "}\n",
        "\n",
        "# Function to calculate the final score\n",
        "def calculate_final_score(row, weights):\n",
        "    # Extract relevant columns from the row\n",
        "    indicators = row[['CMP', 'P_E', 'MCAP', 'Div_Yld_%',\n",
        "                      'NP_Qtr_Rs.Cr.', 'Qtr_Profit_Var_%', 'Sales_Qtr_Rs.Cr.',\n",
        "                      'Qtr_Sales_Var_%', 'ROCE_%', 'Debt_Eq', 'Ind_PE']]\n",
        "\n",
        "    # Remove extra spaces from column names\n",
        "    indicators.index = indicators.index.str.strip()\n",
        "\n",
        "    # Extract weights for the relevant indicators\n",
        "    relevant_weights = {key: weights[key] for key in indicators.index}\n",
        "\n",
        "    # Calculate the final score for the row\n",
        "    final_score = np.sum(np.multiply(indicators, list(relevant_weights.values())))\n",
        "\n",
        "    return final_score\n",
        "\n",
        "# Calculate final score for each stock\n",
        "market_data['Final Score'] = market_data.apply(lambda row: calculate_final_score(row, weights), axis=1)\n",
        "\n",
        "# Display the DataFrame with the added 'Final Score' column\n",
        "print(market_data[['Name', 'CMP', 'P_E', 'MCAP', 'Div_Yld_%',\n",
        "                   'NP_Qtr_Rs.Cr.', 'Qtr_Profit_Var_%', 'Sales_Qtr_Rs.Cr.',\n",
        "                   'Qtr_Sales_Var_%', 'ROCE_%', 'Debt_Eq', 'Ind_PE', 'Final Score']])\n",
        "market_data.columns"
      ],
      "metadata": {
        "colab": {
          "base_uri": "https://localhost:8080/"
        },
        "id": "lqu7U91GwLLK",
        "outputId": "22b3208e-d11c-45cd-c81f-27a40ca0e75e"
      },
      "execution_count": 6,
      "outputs": [
        {
          "output_type": "stream",
          "name": "stdout",
          "text": [
            "                Name      CMP     P_E       MCAP  Div_Yld_%  NP_Qtr_Rs.Cr.  \\\n",
            "0               NTPC   324.55   16.14  314705.30       2.23        5208.87   \n",
            "1        Adani Green  1715.50  165.26  271740.77       0.00         256.00   \n",
            "2   Power Grid Corpn   253.95   15.39  236188.83       4.36        3781.42   \n",
            "3        Adani Power   570.45    9.43  220019.08       0.00        2737.96   \n",
            "4   Adani Energy Sol  1098.05  105.11  122486.67       0.00         348.25   \n",
            "5     Tata Power Co.   381.90   35.72  122030.02       0.52        1017.41   \n",
            "6           NHPC Ltd    86.95   22.41   87341.58       2.13        1693.26   \n",
            "7         JSW Energy   496.30   49.67   81625.25       0.40         232.24   \n",
            "8               SJVN   129.20   48.93   50772.95       1.37         439.64   \n",
            "9      Torrent Power  1003.85   22.16   48246.72       1.30         542.55   \n",
            "10         NLC India   251.00   18.02   34804.58       1.39        1085.93   \n",
            "11              CESC   139.10   13.09   18438.68       3.24         301.00   \n",
            "12     JP Power Ven.    16.90   23.75   11582.35       0.00         172.85   \n",
            "13    Reliance Power    30.10     NaN   11471.66       0.00        -237.76   \n",
            "14  Inox Wind Energy  5566.75     NaN    6706.58       0.00         -57.14   \n",
            "15  Rattanindia Pow.    10.70     NaN    5746.01       0.00        -586.97   \n",
            "16   Guj Inds. Power   223.85   18.31    3385.73       1.68          28.34   \n",
            "17  India Power Corp    26.75  187.54    2604.89       0.19           3.76   \n",
            "18      Orient Green    24.30   55.12    2383.16       0.00          75.00   \n",
            "19      BF Utilities   587.85   16.68    2213.84       0.00          87.11   \n",
            "20    Mac Charles(I)   483.05     NaN     632.80       0.00         -12.29   \n",
            "21   Indowind Energy    30.15     NaN     323.61       0.00           4.96   \n",
            "22    Surana Telecom    17.75     NaN     240.97       0.00           0.83   \n",
            "23         Waa Solar   171.13   21.12     227.03       0.00           5.04   \n",
            "24   Energy Devl.Co.    28.15     NaN     133.71       0.00           2.94   \n",
            "25  Karma Energy Ltd    95.35   37.02     110.32       0.00           2.57   \n",
            "26    Gita Renewable   249.40   17.15     102.56       0.00          -0.07   \n",
            "27   KKV Agro Powers   891.00   40.73      50.51       0.56           0.68   \n",
            "28      Ushdev Intl.     1.24     NaN      41.97       0.00          -2.47   \n",
            "29    Hind Aluminium    59.25    5.48      37.33       0.00           3.94   \n",
            "30     IND Renewable    23.82  106.06      36.06       0.00           0.35   \n",
            "31    SRM Energy Ltd    23.26     NaN      21.07       0.00          -0.38   \n",
            "\n",
            "    Qtr_Profit_Var_%  Sales_Qtr_Rs.Cr.  Qtr_Sales_Var_%  ROCE_%  Debt_Eq  \\\n",
            "0               7.93          42820.38            -3.99    9.83     1.45   \n",
            "1             136.97           2311.00            17.25    7.81     7.23   \n",
            "2               3.59          11267.07             1.04   13.09     1.38   \n",
            "3           31119.61          12991.44            67.32   15.80     0.80   \n",
            "4             -31.56           4562.73            28.47   10.22     3.03   \n",
            "5               6.89          15738.03            12.17   11.74     1.74   \n",
            "6               0.67           2931.26           -12.92    8.49     0.77   \n",
            "7              28.80           2542.77            13.11    7.28     1.40   \n",
            "8              -1.30            878.36            -0.01    9.27     1.19   \n",
            "9               9.19           6960.92             3.85   18.30     0.90   \n",
            "10            163.94           2977.53           -14.67   13.47     1.32   \n",
            "11            -11.91           3244.00             3.68   11.39     1.22   \n",
            "12            200.34           2190.32            82.37    5.16     0.41   \n",
            "13              8.96           2052.26            10.11    3.42     1.60   \n",
            "14             36.17            371.40           245.01   -9.11     1.85   \n",
            "15            -22.35            806.38            -5.10    8.62      NaN   \n",
            "16              6.42            280.18            11.06    8.06     0.20   \n",
            "17              3.30            161.22             1.86    3.77     0.23   \n",
            "18             55.04            122.30            13.43    7.19     1.01   \n",
            "19             57.63            218.41            36.01   25.72      NaN   \n",
            "20           -309.67              4.50             6.13    1.17     2.91   \n",
            "21             28.50             17.91            22.67    2.73     0.13   \n",
            "22            -18.63              5.90           -14.74   -0.15     0.08   \n",
            "23               NaN             23.65              NaN    6.73     0.47   \n",
            "24            -61.77             11.03           -33.91    7.51     1.49   \n",
            "25             18.43              6.31             7.50    6.98     0.03   \n",
            "26           -105.26              0.02           -66.67    6.98     0.00   \n",
            "27               NaN           1024.20              NaN   12.20     0.65   \n",
            "28             86.61              7.93            24.88     NaN      NaN   \n",
            "29             -8.57              0.48           -65.96  -16.68     0.00   \n",
            "30           3600.00              0.00              NaN   -1.79     0.07   \n",
            "31             62.38              0.00              NaN  -84.21      NaN   \n",
            "\n",
            "    Ind_PE  Final Score  \n",
            "0    22.29   36415.2119  \n",
            "1    22.29   27646.6581  \n",
            "2    22.29   25230.2652  \n",
            "3    22.29   26185.0824  \n",
            "4    22.29   12874.0576  \n",
            "5    22.29   13946.2624  \n",
            "6    22.29    9243.8533  \n",
            "7    22.29    8506.9175  \n",
            "8    22.29    5240.2532  \n",
            "9    22.29    5693.6772  \n",
            "10   22.29    3951.0526  \n",
            "11   22.29    2222.1400  \n",
            "12   22.29    1426.7056  \n",
            "13   22.29    1329.8318  \n",
            "14   22.29    1277.9565  \n",
            "15   22.29     585.7041  \n",
            "16   22.29     398.4760  \n",
            "17   22.29     309.7806  \n",
            "18   22.29     277.4713  \n",
            "19   22.29     325.7828  \n",
            "20   22.29      87.5927  \n",
            "21   22.29      43.0231  \n",
            "22   22.29      25.1429  \n",
            "23   22.29      47.7648  \n",
            "24   22.29      12.2665  \n",
            "25   22.29      30.8728  \n",
            "26   22.29      26.4869  \n",
            "27   22.29     205.1739  \n",
            "28   22.29      14.6025  \n",
            "29   22.29       5.1445  \n",
            "30   22.29     310.8780  \n",
            "31   22.29       2.0713  \n"
          ]
        },
        {
          "output_type": "execute_result",
          "data": {
            "text/plain": [
              "Index(['Name', 'CMP', 'P_E', 'MCAP', 'Div_Yld_%', 'NP_Qtr_Rs.Cr.',\n",
              "       'Qtr_Profit_Var_%', 'Sales_Qtr_Rs.Cr.', 'Qtr_Sales_Var_%', 'ROCE_%',\n",
              "       'Debt_Eq', 'Ind_PE', 'Final Score'],\n",
              "      dtype='object')"
            ]
          },
          "metadata": {},
          "execution_count": 6
        }
      ]
    },
    {
      "cell_type": "code",
      "source": [],
      "metadata": {
        "id": "pOn3HlYUx4_4"
      },
      "execution_count": null,
      "outputs": []
    },
    {
      "cell_type": "code",
      "source": [
        "import matplotlib.pyplot as plt\n",
        "# Filter rows where 'Final Score' is less than 400\n",
        "filtered_data = market_data[market_data['Final Score'] < 400]\n",
        "\n",
        "# Plot histogram of the filtered scores\n",
        "plt.figure(figsize=(10, 6))\n",
        "plt.hist(filtered_data['Final Score'], bins=20, color='skyblue', edgecolor='black')\n",
        "plt.title('Distribution of Final Scores (Score < 400)')\n",
        "plt.xlabel('Final Score')\n",
        "plt.ylabel('Frequency')\n",
        "plt.grid(True)\n",
        "plt.show()\n"
      ],
      "metadata": {
        "colab": {
          "base_uri": "https://localhost:8080/",
          "height": 564
        },
        "id": "2-iGm75xx4i4",
        "outputId": "1eb0478f-a431-4d82-ea83-9a83fca08fd5"
      },
      "execution_count": 7,
      "outputs": [
        {
          "output_type": "display_data",
          "data": {
            "text/plain": [
              "<Figure size 1000x600 with 1 Axes>"
            ],
            "image/png": "[encoded data removed]"
          },
          "metadata": {}
        }
      ]
    },
    {
      "cell_type": "code",
      "source": [
        "# Define score ranges\n",
        "score_ranges = [0, 60, 80, 100, 150, 200, 500, float('inf')]\n",
        "\n",
        "# Create bins using pd.cut\n",
        "bins = pd.cut(market_data['Final Score'], bins=score_ranges, right=False)\n",
        "\n",
        "# Count the occurrences in each bin\n",
        "score_distribution = pd.value_counts(bins, sort=False)\n",
        "\n",
        "# Display the count for each range\n",
        "print(score_distribution)\n"
      ],
      "metadata": {
        "colab": {
          "base_uri": "https://localhost:8080/"
        },
        "id": "QPRQNFABx5m6",
        "outputId": "10f6c683-6af4-4825-e841-2cbd9345576e"
      },
      "execution_count": 8,
      "outputs": [
        {
          "output_type": "stream",
          "name": "stdout",
          "text": [
            "[0.0, 60.0)        9\n",
            "[60.0, 80.0)       0\n",
            "[80.0, 100.0)      1\n",
            "[100.0, 150.0)     0\n",
            "[150.0, 200.0)     0\n",
            "[200.0, 500.0)     6\n",
            "[500.0, inf)      16\n",
            "Name: Final Score, dtype: int64\n"
          ]
        }
      ]
    },
    {
      "cell_type": "code",
      "source": [
        "import matplotlib.pyplot as plt\n",
        "# Filter rows where 'Final Score' is less than 400\n",
        "filtered_data = market_data[market_data['Final Score'] > 100]\n",
        "\n",
        "# Plot histogram of the filtered scores\n",
        "plt.figure(figsize=(10, 6))\n",
        "plt.hist(filtered_data['Final Score'], bins=20, color='skyblue', edgecolor='black')\n",
        "plt.title('Distribution of Final Scores (Score < 400)')\n",
        "plt.xlabel('Final Score')\n",
        "plt.ylabel('Frequency')\n",
        "plt.grid(True)\n",
        "plt.show()\n"
      ],
      "metadata": {
        "colab": {
          "base_uri": "https://localhost:8080/",
          "height": 564
        },
        "id": "53itST1_x51j",
        "outputId": "4bc607f6-c1f0-4876-ef5b-ae716f21143f"
      },
      "execution_count": 9,
      "outputs": [
        {
          "output_type": "display_data",
          "data": {
            "text/plain": [
              "<Figure size 1000x600 with 1 Axes>"
            ],
            "image/png": "[encoded data removed]"
          },
          "metadata": {}
        }
      ]
    },
    {
      "cell_type": "code",
      "source": [],
      "metadata": {
        "id": "AtpEmU1Jx6D_"
      },
      "execution_count": null,
      "outputs": []
    },
    {
      "cell_type": "code",
      "source": [
        "# Filter rows where 'Final Score' is greater than 60\n",
        "filtered_data = market_data[market_data['Final Score'] > 60]\n",
        "\n",
        "# Sort the filtered data by 'MCAP' and 'Final Score' in descending order\n",
        "final_list = filtered_data.sort_values(by=['MCAP', 'Final Score'], ascending=[False, False])\n",
        "\n",
        "# Display the final list\n",
        "print(final_list[['Name', 'CMP', 'MCAP','Div_Yld_%', 'ROCE_%',\n",
        "       'Debt_Eq', 'Ind_PE', 'Final Score']])\n",
        "\n",
        "# Assuming df is your DataFrame\n",
        "selected_columns = ['Name', 'CMP', 'MCAP', 'Div_Yld_%', 'ROCE_%', 'Debt_Eq', 'Ind_PE', 'Final Score']\n",
        "df_selected = final_list[selected_columns]\n",
        "\n",
        "# df_selected.columns\n",
        "df_selected.to_excel('_summaryPower Generation & Distribution.xlsx')\n"
      ],
      "metadata": {
        "id": "vyMzLrmnogIz",
        "colab": {
          "base_uri": "https://localhost:8080/"
        },
        "outputId": "6edd152f-4cf3-4014-9e4b-1881458989bf"
      },
      "execution_count": 17,
      "outputs": [
        {
          "output_type": "stream",
          "name": "stdout",
          "text": [
            "                Name      CMP       MCAP  Div_Yld_%  ROCE_%  Debt_Eq  Ind_PE  \\\n",
            "0               NTPC   324.55  314705.30       2.23    9.83     1.45   22.29   \n",
            "1        Adani Green  1715.50  271740.77       0.00    7.81     7.23   22.29   \n",
            "2   Power Grid Corpn   253.95  236188.83       4.36   13.09     1.38   22.29   \n",
            "3        Adani Power   570.45  220019.08       0.00   15.80     0.80   22.29   \n",
            "4   Adani Energy Sol  1098.05  122486.67       0.00   10.22     3.03   22.29   \n",
            "5     Tata Power Co.   381.90  122030.02       0.52   11.74     1.74   22.29   \n",
            "6           NHPC Ltd    86.95   87341.58       2.13    8.49     0.77   22.29   \n",
            "7         JSW Energy   496.30   81625.25       0.40    7.28     1.40   22.29   \n",
            "8               SJVN   129.20   50772.95       1.37    9.27     1.19   22.29   \n",
            "9      Torrent Power  1003.85   48246.72       1.30   18.30     0.90   22.29   \n",
            "10         NLC India   251.00   34804.58       1.39   13.47     1.32   22.29   \n",
            "11              CESC   139.10   18438.68       3.24   11.39     1.22   22.29   \n",
            "12     JP Power Ven.    16.90   11582.35       0.00    5.16     0.41   22.29   \n",
            "13    Reliance Power    30.10   11471.66       0.00    3.42     1.60   22.29   \n",
            "14  Inox Wind Energy  5566.75    6706.58       0.00   -9.11     1.85   22.29   \n",
            "15  Rattanindia Pow.    10.70    5746.01       0.00    8.62      NaN   22.29   \n",
            "16   Guj Inds. Power   223.85    3385.73       1.68    8.06     0.20   22.29   \n",
            "17  India Power Corp    26.75    2604.89       0.19    3.77     0.23   22.29   \n",
            "18      Orient Green    24.30    2383.16       0.00    7.19     1.01   22.29   \n",
            "19      BF Utilities   587.85    2213.84       0.00   25.72      NaN   22.29   \n",
            "20    Mac Charles(I)   483.05     632.80       0.00    1.17     2.91   22.29   \n",
            "27   KKV Agro Powers   891.00      50.51       0.56   12.20     0.65   22.29   \n",
            "30     IND Renewable    23.82      36.06       0.00   -1.79     0.07   22.29   \n",
            "\n",
            "    Final Score  \n",
            "0    36415.2119  \n",
            "1    27646.6581  \n",
            "2    25230.2652  \n",
            "3    26185.0824  \n",
            "4    12874.0576  \n",
            "5    13946.2624  \n",
            "6     9243.8533  \n",
            "7     8506.9175  \n",
            "8     5240.2532  \n",
            "9     5693.6772  \n",
            "10    3951.0526  \n",
            "11    2222.1400  \n",
            "12    1426.7056  \n",
            "13    1329.8318  \n",
            "14    1277.9565  \n",
            "15     585.7041  \n",
            "16     398.4760  \n",
            "17     309.7806  \n",
            "18     277.4713  \n",
            "19     325.7828  \n",
            "20      87.5927  \n",
            "27     205.1739  \n",
            "30     310.8780  \n"
          ]
        }
      ]
    },
    {
      "cell_type": "markdown",
      "source": [],
      "metadata": {
        "id": "WchbltdkpqBq"
      }
    },
    {
      "cell_type": "code",
      "source": [],
      "metadata": {
        "id": "nrIciVINoh9h"
      },
      "execution_count": null,
      "outputs": []
    },
    {
      "cell_type": "code",
      "source": [],
      "metadata": {
        "id": "NEkJchiEoiPt"
      },
      "execution_count": null,
      "outputs": []
    }
  ]
}